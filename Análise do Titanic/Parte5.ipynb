{
 "cells": [
  {
   "cell_type": "markdown",
   "id": "a7d6d294",
   "metadata": {},
   "source": [
    "# Análise do Titanic - Parte 5\n",
    "\n",
    "## Importando as bases de dados de treino e teste"
   ]
  },
  {
   "cell_type": "code",
   "execution_count": 167,
   "id": "d90a7970",
   "metadata": {},
   "outputs": [],
   "source": [
    "import pandas as pd\n",
    "\n",
    "treino = pd.read_csv('Parte 2/base_parte2.csv')\n",
    "teste = pd.read_csv('Parte 2/base_teste_parte2.csv')"
   ]
  },
  {
   "cell_type": "code",
   "execution_count": 168,
   "id": "129d9c5d",
   "metadata": {},
   "outputs": [
    {
     "data": {
      "text/html": [
       "<div>\n",
       "<style scoped>\n",
       "    .dataframe tbody tr th:only-of-type {\n",
       "        vertical-align: middle;\n",
       "    }\n",
       "\n",
       "    .dataframe tbody tr th {\n",
       "        vertical-align: top;\n",
       "    }\n",
       "\n",
       "    .dataframe thead th {\n",
       "        text-align: right;\n",
       "    }\n",
       "</style>\n",
       "<table border=\"1\" class=\"dataframe\">\n",
       "  <thead>\n",
       "    <tr style=\"text-align: right;\">\n",
       "      <th></th>\n",
       "      <th>PassengerId</th>\n",
       "      <th>Survived</th>\n",
       "      <th>Pclass</th>\n",
       "      <th>Sex</th>\n",
       "      <th>Age</th>\n",
       "      <th>SibSp</th>\n",
       "      <th>Parch</th>\n",
       "      <th>Fare</th>\n",
       "      <th>Embarked</th>\n",
       "      <th>MaleCheck</th>\n",
       "      <th>Embarked_C</th>\n",
       "      <th>Embarked_Q</th>\n",
       "      <th>Embarked_S</th>\n",
       "    </tr>\n",
       "  </thead>\n",
       "  <tbody>\n",
       "    <tr>\n",
       "      <th>0</th>\n",
       "      <td>1</td>\n",
       "      <td>0</td>\n",
       "      <td>3</td>\n",
       "      <td>male</td>\n",
       "      <td>22.0</td>\n",
       "      <td>1</td>\n",
       "      <td>0</td>\n",
       "      <td>7.2500</td>\n",
       "      <td>S</td>\n",
       "      <td>1</td>\n",
       "      <td>0</td>\n",
       "      <td>0</td>\n",
       "      <td>1</td>\n",
       "    </tr>\n",
       "    <tr>\n",
       "      <th>1</th>\n",
       "      <td>2</td>\n",
       "      <td>1</td>\n",
       "      <td>1</td>\n",
       "      <td>female</td>\n",
       "      <td>38.0</td>\n",
       "      <td>1</td>\n",
       "      <td>0</td>\n",
       "      <td>71.2833</td>\n",
       "      <td>C</td>\n",
       "      <td>0</td>\n",
       "      <td>1</td>\n",
       "      <td>0</td>\n",
       "      <td>0</td>\n",
       "    </tr>\n",
       "    <tr>\n",
       "      <th>2</th>\n",
       "      <td>3</td>\n",
       "      <td>1</td>\n",
       "      <td>3</td>\n",
       "      <td>female</td>\n",
       "      <td>26.0</td>\n",
       "      <td>0</td>\n",
       "      <td>0</td>\n",
       "      <td>7.9250</td>\n",
       "      <td>S</td>\n",
       "      <td>0</td>\n",
       "      <td>0</td>\n",
       "      <td>0</td>\n",
       "      <td>1</td>\n",
       "    </tr>\n",
       "  </tbody>\n",
       "</table>\n",
       "</div>"
      ],
      "text/plain": [
       "   PassengerId  Survived  Pclass     Sex   Age  SibSp  Parch     Fare  \\\n",
       "0            1         0       3    male  22.0      1      0   7.2500   \n",
       "1            2         1       1  female  38.0      1      0  71.2833   \n",
       "2            3         1       3  female  26.0      0      0   7.9250   \n",
       "\n",
       "  Embarked  MaleCheck  Embarked_C  Embarked_Q  Embarked_S  \n",
       "0        S          1           0           0           1  \n",
       "1        C          0           1           0           0  \n",
       "2        S          0           0           0           1  "
      ]
     },
     "execution_count": 168,
     "metadata": {},
     "output_type": "execute_result"
    }
   ],
   "source": [
    "treino.head(3)"
   ]
  },
  {
   "cell_type": "code",
   "execution_count": 169,
   "id": "c4a13e7c",
   "metadata": {},
   "outputs": [],
   "source": [
    "treino = treino.drop('Sex', axis=1)\n",
    "teste = teste.drop('Sex', axis=1)"
   ]
  },
  {
   "cell_type": "code",
   "execution_count": 170,
   "id": "c36c5748",
   "metadata": {},
   "outputs": [],
   "source": [
    "from sklearn.preprocessing import RobustScaler\n",
    "\n",
    "transformer = RobustScaler().fit(treino[['Age', 'Fare']])\n",
    "treino[['Age', 'Fare']] = transformer.transform(treino[['Age', 'Fare']])\n",
    "\n",
    "transformer_teste = RobustScaler().fit(teste[['Age', 'Fare']])\n",
    "teste[['Age', 'Fare']] = transformer_teste.transform(teste[['Age', 'Fare']])"
   ]
  },
  {
   "cell_type": "code",
   "execution_count": 171,
   "id": "67f2c378",
   "metadata": {},
   "outputs": [
    {
     "data": {
      "text/html": [
       "<div>\n",
       "<style scoped>\n",
       "    .dataframe tbody tr th:only-of-type {\n",
       "        vertical-align: middle;\n",
       "    }\n",
       "\n",
       "    .dataframe tbody tr th {\n",
       "        vertical-align: top;\n",
       "    }\n",
       "\n",
       "    .dataframe thead th {\n",
       "        text-align: right;\n",
       "    }\n",
       "</style>\n",
       "<table border=\"1\" class=\"dataframe\">\n",
       "  <thead>\n",
       "    <tr style=\"text-align: right;\">\n",
       "      <th></th>\n",
       "      <th>PassengerId</th>\n",
       "      <th>Survived</th>\n",
       "      <th>Pclass</th>\n",
       "      <th>Age</th>\n",
       "      <th>SibSp</th>\n",
       "      <th>Parch</th>\n",
       "      <th>Fare</th>\n",
       "      <th>Embarked</th>\n",
       "      <th>MaleCheck</th>\n",
       "      <th>Embarked_C</th>\n",
       "      <th>Embarked_Q</th>\n",
       "      <th>Embarked_S</th>\n",
       "    </tr>\n",
       "  </thead>\n",
       "  <tbody>\n",
       "    <tr>\n",
       "      <th>0</th>\n",
       "      <td>1</td>\n",
       "      <td>0</td>\n",
       "      <td>3</td>\n",
       "      <td>-0.592240</td>\n",
       "      <td>1</td>\n",
       "      <td>0</td>\n",
       "      <td>-0.312011</td>\n",
       "      <td>S</td>\n",
       "      <td>1</td>\n",
       "      <td>0</td>\n",
       "      <td>0</td>\n",
       "      <td>1</td>\n",
       "    </tr>\n",
       "    <tr>\n",
       "      <th>1</th>\n",
       "      <td>2</td>\n",
       "      <td>1</td>\n",
       "      <td>1</td>\n",
       "      <td>0.638529</td>\n",
       "      <td>1</td>\n",
       "      <td>0</td>\n",
       "      <td>2.461242</td>\n",
       "      <td>C</td>\n",
       "      <td>0</td>\n",
       "      <td>1</td>\n",
       "      <td>0</td>\n",
       "      <td>0</td>\n",
       "    </tr>\n",
       "    <tr>\n",
       "      <th>2</th>\n",
       "      <td>3</td>\n",
       "      <td>1</td>\n",
       "      <td>3</td>\n",
       "      <td>-0.284548</td>\n",
       "      <td>0</td>\n",
       "      <td>0</td>\n",
       "      <td>-0.282777</td>\n",
       "      <td>S</td>\n",
       "      <td>0</td>\n",
       "      <td>0</td>\n",
       "      <td>0</td>\n",
       "      <td>1</td>\n",
       "    </tr>\n",
       "  </tbody>\n",
       "</table>\n",
       "</div>"
      ],
      "text/plain": [
       "   PassengerId  Survived  Pclass       Age  SibSp  Parch      Fare Embarked  \\\n",
       "0            1         0       3 -0.592240      1      0 -0.312011        S   \n",
       "1            2         1       1  0.638529      1      0  2.461242        C   \n",
       "2            3         1       3 -0.284548      0      0 -0.282777        S   \n",
       "\n",
       "   MaleCheck  Embarked_C  Embarked_Q  Embarked_S  \n",
       "0          1           0           0           1  \n",
       "1          0           1           0           0  \n",
       "2          0           0           0           1  "
      ]
     },
     "execution_count": 171,
     "metadata": {},
     "output_type": "execute_result"
    }
   ],
   "source": [
    "treino.head(3)"
   ]
  },
  {
   "cell_type": "code",
   "execution_count": 172,
   "id": "eed73168",
   "metadata": {},
   "outputs": [],
   "source": [
    "def sozinho(a, b):\n",
    "    if (a == 0 and b == 0):\n",
    "        return 1\n",
    "    else:\n",
    "        return 0"
   ]
  },
  {
   "cell_type": "code",
   "execution_count": 173,
   "id": "e5e373e3",
   "metadata": {},
   "outputs": [],
   "source": [
    "treino['Sozinho'] = treino.apply(lambda x: sozinho(x.SibSp, x.Parch), axis=1)\n",
    "\n",
    "teste['Sozinho'] = teste.apply(lambda x: sozinho(x.SibSp, x.Parch), axis=1)"
   ]
  },
  {
   "cell_type": "code",
   "execution_count": 174,
   "id": "6b564f8a",
   "metadata": {},
   "outputs": [],
   "source": [
    "treino['Familiares'] = treino.SibSp + treino.Parch\n",
    "\n",
    "teste['Familiares'] = teste.SibSp + teste.Parch"
   ]
  },
  {
   "cell_type": "code",
   "execution_count": 175,
   "id": "8ac85ecc",
   "metadata": {},
   "outputs": [
    {
     "data": {
      "text/html": [
       "<div>\n",
       "<style scoped>\n",
       "    .dataframe tbody tr th:only-of-type {\n",
       "        vertical-align: middle;\n",
       "    }\n",
       "\n",
       "    .dataframe tbody tr th {\n",
       "        vertical-align: top;\n",
       "    }\n",
       "\n",
       "    .dataframe thead th {\n",
       "        text-align: right;\n",
       "    }\n",
       "</style>\n",
       "<table border=\"1\" class=\"dataframe\">\n",
       "  <thead>\n",
       "    <tr style=\"text-align: right;\">\n",
       "      <th></th>\n",
       "      <th>PassengerId</th>\n",
       "      <th>Survived</th>\n",
       "      <th>Pclass</th>\n",
       "      <th>Age</th>\n",
       "      <th>SibSp</th>\n",
       "      <th>Parch</th>\n",
       "      <th>Fare</th>\n",
       "      <th>Embarked</th>\n",
       "      <th>MaleCheck</th>\n",
       "      <th>Embarked_C</th>\n",
       "      <th>Embarked_Q</th>\n",
       "      <th>Embarked_S</th>\n",
       "      <th>Sozinho</th>\n",
       "      <th>Familiares</th>\n",
       "    </tr>\n",
       "  </thead>\n",
       "  <tbody>\n",
       "    <tr>\n",
       "      <th>0</th>\n",
       "      <td>1</td>\n",
       "      <td>0</td>\n",
       "      <td>3</td>\n",
       "      <td>-0.592240</td>\n",
       "      <td>1</td>\n",
       "      <td>0</td>\n",
       "      <td>-0.312011</td>\n",
       "      <td>S</td>\n",
       "      <td>1</td>\n",
       "      <td>0</td>\n",
       "      <td>0</td>\n",
       "      <td>1</td>\n",
       "      <td>0</td>\n",
       "      <td>1</td>\n",
       "    </tr>\n",
       "    <tr>\n",
       "      <th>1</th>\n",
       "      <td>2</td>\n",
       "      <td>1</td>\n",
       "      <td>1</td>\n",
       "      <td>0.638529</td>\n",
       "      <td>1</td>\n",
       "      <td>0</td>\n",
       "      <td>2.461242</td>\n",
       "      <td>C</td>\n",
       "      <td>0</td>\n",
       "      <td>1</td>\n",
       "      <td>0</td>\n",
       "      <td>0</td>\n",
       "      <td>0</td>\n",
       "      <td>1</td>\n",
       "    </tr>\n",
       "    <tr>\n",
       "      <th>2</th>\n",
       "      <td>3</td>\n",
       "      <td>1</td>\n",
       "      <td>3</td>\n",
       "      <td>-0.284548</td>\n",
       "      <td>0</td>\n",
       "      <td>0</td>\n",
       "      <td>-0.282777</td>\n",
       "      <td>S</td>\n",
       "      <td>0</td>\n",
       "      <td>0</td>\n",
       "      <td>0</td>\n",
       "      <td>1</td>\n",
       "      <td>1</td>\n",
       "      <td>0</td>\n",
       "    </tr>\n",
       "  </tbody>\n",
       "</table>\n",
       "</div>"
      ],
      "text/plain": [
       "   PassengerId  Survived  Pclass       Age  SibSp  Parch      Fare Embarked  \\\n",
       "0            1         0       3 -0.592240      1      0 -0.312011        S   \n",
       "1            2         1       1  0.638529      1      0  2.461242        C   \n",
       "2            3         1       3 -0.284548      0      0 -0.282777        S   \n",
       "\n",
       "   MaleCheck  Embarked_C  Embarked_Q  Embarked_S  Sozinho  Familiares  \n",
       "0          1           0           0           1        0           1  \n",
       "1          0           1           0           0        0           1  \n",
       "2          0           0           0           1        1           0  "
      ]
     },
     "execution_count": 175,
     "metadata": {},
     "output_type": "execute_result"
    }
   ],
   "source": [
    "treino.head(3)"
   ]
  },
  {
   "cell_type": "code",
   "execution_count": 176,
   "id": "55f18815",
   "metadata": {},
   "outputs": [
    {
     "data": {
      "text/html": [
       "<div>\n",
       "<style scoped>\n",
       "    .dataframe tbody tr th:only-of-type {\n",
       "        vertical-align: middle;\n",
       "    }\n",
       "\n",
       "    .dataframe tbody tr th {\n",
       "        vertical-align: top;\n",
       "    }\n",
       "\n",
       "    .dataframe thead th {\n",
       "        text-align: right;\n",
       "    }\n",
       "</style>\n",
       "<table border=\"1\" class=\"dataframe\">\n",
       "  <thead>\n",
       "    <tr style=\"text-align: right;\">\n",
       "      <th></th>\n",
       "      <th>PassengerId</th>\n",
       "      <th>Survived</th>\n",
       "      <th>Pclass</th>\n",
       "      <th>Name</th>\n",
       "      <th>Sex</th>\n",
       "      <th>Age</th>\n",
       "      <th>SibSp</th>\n",
       "      <th>Parch</th>\n",
       "      <th>Ticket</th>\n",
       "      <th>Fare</th>\n",
       "      <th>Cabin</th>\n",
       "      <th>Embarked</th>\n",
       "    </tr>\n",
       "  </thead>\n",
       "  <tbody>\n",
       "    <tr>\n",
       "      <th>0</th>\n",
       "      <td>1</td>\n",
       "      <td>0</td>\n",
       "      <td>3</td>\n",
       "      <td>Braund, Mr. Owen Harris</td>\n",
       "      <td>male</td>\n",
       "      <td>22.0</td>\n",
       "      <td>1</td>\n",
       "      <td>0</td>\n",
       "      <td>A/5 21171</td>\n",
       "      <td>7.2500</td>\n",
       "      <td>NaN</td>\n",
       "      <td>S</td>\n",
       "    </tr>\n",
       "    <tr>\n",
       "      <th>1</th>\n",
       "      <td>2</td>\n",
       "      <td>1</td>\n",
       "      <td>1</td>\n",
       "      <td>Cumings, Mrs. John Bradley (Florence Briggs Th...</td>\n",
       "      <td>female</td>\n",
       "      <td>38.0</td>\n",
       "      <td>1</td>\n",
       "      <td>0</td>\n",
       "      <td>PC 17599</td>\n",
       "      <td>71.2833</td>\n",
       "      <td>C85</td>\n",
       "      <td>C</td>\n",
       "    </tr>\n",
       "  </tbody>\n",
       "</table>\n",
       "</div>"
      ],
      "text/plain": [
       "   PassengerId  Survived  Pclass  \\\n",
       "0            1         0       3   \n",
       "1            2         1       1   \n",
       "\n",
       "                                                Name     Sex   Age  SibSp  \\\n",
       "0                            Braund, Mr. Owen Harris    male  22.0      1   \n",
       "1  Cumings, Mrs. John Bradley (Florence Briggs Th...  female  38.0      1   \n",
       "\n",
       "   Parch     Ticket     Fare Cabin Embarked  \n",
       "0      0  A/5 21171   7.2500   NaN        S  \n",
       "1      0   PC 17599  71.2833   C85        C  "
      ]
     },
     "execution_count": 176,
     "metadata": {},
     "output_type": "execute_result"
    }
   ],
   "source": [
    "treino2 = pd.read_csv('DataBase/train.csv')\n",
    "teste2 = pd.read_csv('DataBase/test.csv')\n",
    "\n",
    "treino2.head(2)"
   ]
  },
  {
   "cell_type": "code",
   "execution_count": 177,
   "id": "8d1a80ad",
   "metadata": {},
   "outputs": [],
   "source": [
    "treino2['Embarked'] = treino2['Embarked'].fillna('S')"
   ]
  },
  {
   "cell_type": "code",
   "execution_count": 178,
   "id": "f277fa03",
   "metadata": {},
   "outputs": [],
   "source": [
    "from sklearn.preprocessing import OrdinalEncoder\n",
    "\n",
    "categorias = ['S', 'C', 'Q']\n",
    "\n",
    "enc = OrdinalEncoder(categories=[categorias], dtype='int32')\n",
    "\n",
    "enc = enc.fit(treino2[['Embarked']])"
   ]
  },
  {
   "cell_type": "code",
   "execution_count": 179,
   "id": "e0bfed96",
   "metadata": {},
   "outputs": [],
   "source": [
    "# Voltando para a base de treino original\n",
    "treino['Embarked'] = enc.transform(treino2[['Embarked']])"
   ]
  },
  {
   "cell_type": "code",
   "execution_count": 180,
   "id": "e399d58b",
   "metadata": {},
   "outputs": [],
   "source": [
    "enc = enc.fit(teste2[['Embarked']])"
   ]
  },
  {
   "cell_type": "code",
   "execution_count": 181,
   "id": "1dfa3c0b",
   "metadata": {},
   "outputs": [],
   "source": [
    "# Voltando para a base de teste original\n",
    "teste['Embarked'] = enc.transform(teste2[['Embarked']])"
   ]
  },
  {
   "cell_type": "code",
   "execution_count": 182,
   "id": "d46bdcec",
   "metadata": {},
   "outputs": [
    {
     "data": {
      "text/html": [
       "<div>\n",
       "<style scoped>\n",
       "    .dataframe tbody tr th:only-of-type {\n",
       "        vertical-align: middle;\n",
       "    }\n",
       "\n",
       "    .dataframe tbody tr th {\n",
       "        vertical-align: top;\n",
       "    }\n",
       "\n",
       "    .dataframe thead th {\n",
       "        text-align: right;\n",
       "    }\n",
       "</style>\n",
       "<table border=\"1\" class=\"dataframe\">\n",
       "  <thead>\n",
       "    <tr style=\"text-align: right;\">\n",
       "      <th></th>\n",
       "      <th>PassengerId</th>\n",
       "      <th>Survived</th>\n",
       "      <th>Pclass</th>\n",
       "      <th>Age</th>\n",
       "      <th>SibSp</th>\n",
       "      <th>Parch</th>\n",
       "      <th>Fare</th>\n",
       "      <th>Embarked</th>\n",
       "      <th>MaleCheck</th>\n",
       "      <th>Embarked_C</th>\n",
       "      <th>Embarked_Q</th>\n",
       "      <th>Embarked_S</th>\n",
       "      <th>Sozinho</th>\n",
       "      <th>Familiares</th>\n",
       "    </tr>\n",
       "  </thead>\n",
       "  <tbody>\n",
       "    <tr>\n",
       "      <th>0</th>\n",
       "      <td>1</td>\n",
       "      <td>0</td>\n",
       "      <td>3</td>\n",
       "      <td>-0.592240</td>\n",
       "      <td>1</td>\n",
       "      <td>0</td>\n",
       "      <td>-0.312011</td>\n",
       "      <td>0</td>\n",
       "      <td>1</td>\n",
       "      <td>0</td>\n",
       "      <td>0</td>\n",
       "      <td>1</td>\n",
       "      <td>0</td>\n",
       "      <td>1</td>\n",
       "    </tr>\n",
       "    <tr>\n",
       "      <th>1</th>\n",
       "      <td>2</td>\n",
       "      <td>1</td>\n",
       "      <td>1</td>\n",
       "      <td>0.638529</td>\n",
       "      <td>1</td>\n",
       "      <td>0</td>\n",
       "      <td>2.461242</td>\n",
       "      <td>1</td>\n",
       "      <td>0</td>\n",
       "      <td>1</td>\n",
       "      <td>0</td>\n",
       "      <td>0</td>\n",
       "      <td>0</td>\n",
       "      <td>1</td>\n",
       "    </tr>\n",
       "    <tr>\n",
       "      <th>2</th>\n",
       "      <td>3</td>\n",
       "      <td>1</td>\n",
       "      <td>3</td>\n",
       "      <td>-0.284548</td>\n",
       "      <td>0</td>\n",
       "      <td>0</td>\n",
       "      <td>-0.282777</td>\n",
       "      <td>0</td>\n",
       "      <td>0</td>\n",
       "      <td>0</td>\n",
       "      <td>0</td>\n",
       "      <td>1</td>\n",
       "      <td>1</td>\n",
       "      <td>0</td>\n",
       "    </tr>\n",
       "  </tbody>\n",
       "</table>\n",
       "</div>"
      ],
      "text/plain": [
       "   PassengerId  Survived  Pclass       Age  SibSp  Parch      Fare  Embarked  \\\n",
       "0            1         0       3 -0.592240      1      0 -0.312011         0   \n",
       "1            2         1       1  0.638529      1      0  2.461242         1   \n",
       "2            3         1       3 -0.284548      0      0 -0.282777         0   \n",
       "\n",
       "   MaleCheck  Embarked_C  Embarked_Q  Embarked_S  Sozinho  Familiares  \n",
       "0          1           0           0           1        0           1  \n",
       "1          0           1           0           0        0           1  \n",
       "2          0           0           0           1        1           0  "
      ]
     },
     "execution_count": 182,
     "metadata": {},
     "output_type": "execute_result"
    }
   ],
   "source": [
    "treino.head(3)"
   ]
  },
  {
   "cell_type": "code",
   "execution_count": 183,
   "id": "2f184f12",
   "metadata": {},
   "outputs": [],
   "source": [
    "treino = treino.drop(['Embarked_C', 'Embarked_S', 'Embarked_Q'], axis=1)\n",
    "\n",
    "teste = teste.drop(['Embarked_C', 'Embarked_S', 'Embarked_Q'], axis=1)"
   ]
  },
  {
   "cell_type": "code",
   "execution_count": 184,
   "id": "61390119",
   "metadata": {},
   "outputs": [
    {
     "data": {
      "text/html": [
       "<div>\n",
       "<style scoped>\n",
       "    .dataframe tbody tr th:only-of-type {\n",
       "        vertical-align: middle;\n",
       "    }\n",
       "\n",
       "    .dataframe tbody tr th {\n",
       "        vertical-align: top;\n",
       "    }\n",
       "\n",
       "    .dataframe thead th {\n",
       "        text-align: right;\n",
       "    }\n",
       "</style>\n",
       "<table border=\"1\" class=\"dataframe\">\n",
       "  <thead>\n",
       "    <tr style=\"text-align: right;\">\n",
       "      <th></th>\n",
       "      <th>PassengerId</th>\n",
       "      <th>Survived</th>\n",
       "      <th>Pclass</th>\n",
       "      <th>Age</th>\n",
       "      <th>SibSp</th>\n",
       "      <th>Parch</th>\n",
       "      <th>Fare</th>\n",
       "      <th>Embarked</th>\n",
       "      <th>MaleCheck</th>\n",
       "      <th>Sozinho</th>\n",
       "      <th>Familiares</th>\n",
       "    </tr>\n",
       "  </thead>\n",
       "  <tbody>\n",
       "    <tr>\n",
       "      <th>0</th>\n",
       "      <td>1</td>\n",
       "      <td>0</td>\n",
       "      <td>3</td>\n",
       "      <td>-0.592240</td>\n",
       "      <td>1</td>\n",
       "      <td>0</td>\n",
       "      <td>-0.312011</td>\n",
       "      <td>0</td>\n",
       "      <td>1</td>\n",
       "      <td>0</td>\n",
       "      <td>1</td>\n",
       "    </tr>\n",
       "    <tr>\n",
       "      <th>1</th>\n",
       "      <td>2</td>\n",
       "      <td>1</td>\n",
       "      <td>1</td>\n",
       "      <td>0.638529</td>\n",
       "      <td>1</td>\n",
       "      <td>0</td>\n",
       "      <td>2.461242</td>\n",
       "      <td>1</td>\n",
       "      <td>0</td>\n",
       "      <td>0</td>\n",
       "      <td>1</td>\n",
       "    </tr>\n",
       "    <tr>\n",
       "      <th>2</th>\n",
       "      <td>3</td>\n",
       "      <td>1</td>\n",
       "      <td>3</td>\n",
       "      <td>-0.284548</td>\n",
       "      <td>0</td>\n",
       "      <td>0</td>\n",
       "      <td>-0.282777</td>\n",
       "      <td>0</td>\n",
       "      <td>0</td>\n",
       "      <td>1</td>\n",
       "      <td>0</td>\n",
       "    </tr>\n",
       "  </tbody>\n",
       "</table>\n",
       "</div>"
      ],
      "text/plain": [
       "   PassengerId  Survived  Pclass       Age  SibSp  Parch      Fare  Embarked  \\\n",
       "0            1         0       3 -0.592240      1      0 -0.312011         0   \n",
       "1            2         1       1  0.638529      1      0  2.461242         1   \n",
       "2            3         1       3 -0.284548      0      0 -0.282777         0   \n",
       "\n",
       "   MaleCheck  Sozinho  Familiares  \n",
       "0          1        0           1  \n",
       "1          0        0           1  \n",
       "2          0        1           0  "
      ]
     },
     "execution_count": 184,
     "metadata": {},
     "output_type": "execute_result"
    }
   ],
   "source": [
    "treino.head(3)"
   ]
  },
  {
   "cell_type": "markdown",
   "id": "9f821648",
   "metadata": {},
   "source": [
    "### Nesta parte iremos testar outro modelos para realizar a previsão\n",
    "\n",
    "* Nas partes anteriores, nós estávamos focando em: Árvore de Decisão, KNN e Regressão Logística. Dos três, Regressão Logística apresentou uma maior acurácia, logo iremos manter.\n",
    "\n",
    "* Outro modelos disponíveis são:\n",
    "    - Random Forest\n",
    "\n",
    "    - MLPClassifier (Redes Neurais)\n",
    "\n",
    "* Para tentarmos melhorar o modelo em comparação com o utilizado na Parte 4, vamos atribuir além do **train_test_split** o **grid_search** para estimar os melhores parâmetros"
   ]
  },
  {
   "cell_type": "code",
   "execution_count": 185,
   "id": "4b290438",
   "metadata": {},
   "outputs": [],
   "source": [
    "from sklearn.model_selection import train_test_split"
   ]
  },
  {
   "cell_type": "code",
   "execution_count": 186,
   "id": "85f7001b",
   "metadata": {},
   "outputs": [],
   "source": [
    "X = treino.drop(['PassengerId', 'Survived'], axis=1)\n",
    "y = treino.Survived"
   ]
  },
  {
   "cell_type": "code",
   "execution_count": 187,
   "id": "6ffd0327",
   "metadata": {},
   "outputs": [],
   "source": [
    "X_train, X_val, y_train, y_val = train_test_split(X, y, test_size=0.2, random_state=42)"
   ]
  },
  {
   "cell_type": "markdown",
   "id": "d0f0692d",
   "metadata": {},
   "source": [
    "* Regressão Logística"
   ]
  },
  {
   "cell_type": "code",
   "execution_count": 188,
   "id": "b5901731",
   "metadata": {},
   "outputs": [],
   "source": [
    "from sklearn.linear_model import LogisticRegression\n",
    "\n",
    "clf_rl = LogisticRegression(random_state=42)\n",
    "\n",
    "clf_rl = clf_rl.fit(X_train, y_train)"
   ]
  },
  {
   "cell_type": "code",
   "execution_count": 189,
   "id": "b5877668",
   "metadata": {},
   "outputs": [],
   "source": [
    "# Definindo os parâmtros do modelo de Regressão Logística\n",
    "parametros_rl = {\n",
    "    'penalty': ['l1', 'l2'],\n",
    "    'C': [0.01, 0.1, 1, 10],\n",
    "    'solver': ['lbfgs', 'liblinear', 'saga'],\n",
    "    'max_iter': [100, 1000, 5000, 10000]\n",
    "}"
   ]
  },
  {
   "cell_type": "markdown",
   "id": "2ad59161",
   "metadata": {},
   "source": [
    "* Random Forest"
   ]
  },
  {
   "cell_type": "code",
   "execution_count": 190,
   "id": "a3fba7cd",
   "metadata": {},
   "outputs": [],
   "source": [
    "from sklearn.ensemble import RandomForestClassifier\n",
    "\n",
    "clf_rf = RandomForestClassifier(random_state=42)\n",
    "\n",
    "clf_rf = clf_rf.fit(X_train, y_train)"
   ]
  },
  {
   "cell_type": "code",
   "execution_count": 191,
   "id": "c4edeab2",
   "metadata": {},
   "outputs": [],
   "source": [
    "# Definindo os parâmtros do modelo de Random Forest\n",
    "parametros_rf = {\n",
    "    'n_estimators': [100, 200, 500, 1000],\n",
    "    'criterion': ['gini', 'entropy', 'log_loss'],\n",
    "    'max_depth': [2, 4, 6, 8, None],\n",
    "    'max_features': ['sqrt', 'log2', None]\n",
    "}"
   ]
  },
  {
   "cell_type": "markdown",
   "id": "f7fee0a7",
   "metadata": {},
   "source": [
    "* MLPClassifier (Redes Neurais)"
   ]
  },
  {
   "cell_type": "code",
   "execution_count": 192,
   "id": "72d3b26b",
   "metadata": {},
   "outputs": [],
   "source": [
    "from sklearn.neural_network import MLPClassifier\n",
    "\n",
    "clf_mlp = MLPClassifier(random_state=42, max_iter=5000)\n",
    "\n",
    "clf_mlp = clf_mlp.fit(X_train, y_train)"
   ]
  },
  {
   "cell_type": "code",
   "execution_count": 193,
   "id": "95cffa40",
   "metadata": {},
   "outputs": [],
   "source": [
    "# Definindo os parâmtros do modelo de MLPClassifier\n",
    "parametros_mlp = {\n",
    "    'solver': ['lbfgs', 'sgd', 'adam'],\n",
    "    'alpha': [10.0**(-1), 10.0**(-5), 10.**(-7), 10.0**(-10)],\n",
    "    'max_iter': [200, 500, 1000, 5000]\n",
    "}"
   ]
  },
  {
   "cell_type": "markdown",
   "id": "b5a5da2d",
   "metadata": {},
   "source": [
    "* Fazendo a busca pelos melhores parâmetros com **grid_search**"
   ]
  },
  {
   "cell_type": "code",
   "execution_count": 194,
   "id": "d1077a18",
   "metadata": {},
   "outputs": [],
   "source": [
    "# Ignorar os avisos\n",
    "import warnings\n",
    "warnings.filterwarnings('ignore')"
   ]
  },
  {
   "cell_type": "code",
   "execution_count": 195,
   "id": "70944544",
   "metadata": {},
   "outputs": [],
   "source": [
    "# Importanto o datetime para cronometrar a demora dos modelos\n",
    "from datetime import datetime\n",
    "def hora_atual():\n",
    "    agora = datetime.now()\n",
    "    print(str(agora.hour)+':'+str(agora.minute)+':'+str(agora.second))\n"
   ]
  },
  {
   "cell_type": "code",
   "execution_count": 196,
   "id": "39ff0bed",
   "metadata": {},
   "outputs": [],
   "source": [
    "# Importanto KFold e GridSearchCV\n",
    "from sklearn.model_selection import GridSearchCV\n",
    "from sklearn.model_selection import KFold"
   ]
  },
  {
   "cell_type": "code",
   "execution_count": 197,
   "id": "1734bf0d",
   "metadata": {},
   "outputs": [
    {
     "name": "stdout",
     "output_type": "stream",
     "text": [
      "14:3:41\n",
      "14:3:48\n"
     ]
    }
   ],
   "source": [
    "# Para a Regressão Logística\n",
    "hora_atual()\n",
    "kfold_rl = KFold(random_state=42, shuffle=True, n_splits=8) # Separar as bases\n",
    "\n",
    "grid_search_rl = GridSearchCV(clf_rl, parametros_rl, scoring='accuracy', cv=kfold_rl) # Verificar os melhores parâmetros\n",
    "grid_search_rl = grid_search_rl.fit(X_train, y_train)\n",
    "\n",
    "hora_atual()"
   ]
  },
  {
   "cell_type": "code",
   "execution_count": 198,
   "id": "b6d74700",
   "metadata": {},
   "outputs": [
    {
     "name": "stdout",
     "output_type": "stream",
     "text": [
      "14:3:48\n",
      "14:16:50\n"
     ]
    }
   ],
   "source": [
    "# Para a Random Forest\n",
    "hora_atual()\n",
    "kfold_rf = KFold(random_state=42, shuffle=True, n_splits=8) # Separar as bases\n",
    "\n",
    "grid_search_rf = GridSearchCV(clf_rf, parametros_rf, scoring='accuracy', cv=kfold_rf) # Verificar os melhores parâmetros\n",
    "grid_search_rf = grid_search_rf.fit(X_train, y_train)\n",
    "\n",
    "hora_atual()"
   ]
  },
  {
   "cell_type": "code",
   "execution_count": 199,
   "id": "73c499bb",
   "metadata": {},
   "outputs": [
    {
     "name": "stdout",
     "output_type": "stream",
     "text": [
      "14:16:51\n",
      "14:24:31\n"
     ]
    }
   ],
   "source": [
    "# Para a MLPClassifier\n",
    "hora_atual()\n",
    "kfold_mlp = KFold(random_state=42, shuffle=True, n_splits=8) # Separar as bases\n",
    "\n",
    "grid_search_mlp = GridSearchCV(clf_mlp, parametros_mlp, scoring='accuracy', cv=kfold_mlp) # Verificar os melhores parâmetros\n",
    "grid_search_mlp = grid_search_mlp.fit(X_train, y_train)\n",
    "\n",
    "hora_atual()"
   ]
  },
  {
   "cell_type": "markdown",
   "id": "3f9b8410",
   "metadata": {},
   "source": [
    "### Verificando os melhores parâmetros para cada modelo"
   ]
  },
  {
   "cell_type": "code",
   "execution_count": 222,
   "id": "446695cc",
   "metadata": {},
   "outputs": [
    {
     "data": {
      "text/plain": [
       "{'C': 0.1, 'max_iter': 100, 'penalty': 'l2', 'solver': 'lbfgs'}"
      ]
     },
     "execution_count": 222,
     "metadata": {},
     "output_type": "execute_result"
    }
   ],
   "source": [
    "# Melhor parâmetro da Regressão Logística\n",
    "grid_search_rl.best_params_"
   ]
  },
  {
   "cell_type": "code",
   "execution_count": 223,
   "id": "39d5f49a",
   "metadata": {},
   "outputs": [
    {
     "data": {
      "text/plain": [
       "{'criterion': 'entropy',\n",
       " 'max_depth': 6,\n",
       " 'max_features': 'sqrt',\n",
       " 'n_estimators': 100}"
      ]
     },
     "execution_count": 223,
     "metadata": {},
     "output_type": "execute_result"
    }
   ],
   "source": [
    "# Melhor parâmetro da Random Forest\n",
    "grid_search_rf.best_params_"
   ]
  },
  {
   "cell_type": "code",
   "execution_count": 224,
   "id": "9832801d",
   "metadata": {},
   "outputs": [
    {
     "data": {
      "text/plain": [
       "{'alpha': 0.1, 'max_iter': 200, 'solver': 'adam'}"
      ]
     },
     "execution_count": 224,
     "metadata": {},
     "output_type": "execute_result"
    }
   ],
   "source": [
    "# Melhor parâmetro da MLPClassifier\n",
    "grid_search_mlp.best_params_"
   ]
  },
  {
   "cell_type": "markdown",
   "id": "655c55b0",
   "metadata": {},
   "source": [
    "### Verificando os scores para cada modelo"
   ]
  },
  {
   "cell_type": "code",
   "execution_count": 225,
   "id": "ad12eed6",
   "metadata": {},
   "outputs": [
    {
     "data": {
      "text/plain": [
       "0.8089887640449438"
      ]
     },
     "execution_count": 225,
     "metadata": {},
     "output_type": "execute_result"
    }
   ],
   "source": [
    "# Melhor score da Regressão Logística\n",
    "grid_search_rl.best_score_"
   ]
  },
  {
   "cell_type": "code",
   "execution_count": 226,
   "id": "b2dc8291",
   "metadata": {},
   "outputs": [
    {
     "data": {
      "text/plain": [
       "0.8314606741573034"
      ]
     },
     "execution_count": 226,
     "metadata": {},
     "output_type": "execute_result"
    }
   ],
   "source": [
    "# Melhor score da Random Forest\n",
    "grid_search_rf.best_score_"
   ]
  },
  {
   "cell_type": "code",
   "execution_count": 227,
   "id": "9f9c70a2",
   "metadata": {},
   "outputs": [
    {
     "data": {
      "text/plain": [
       "0.8174157303370786"
      ]
     },
     "execution_count": 227,
     "metadata": {},
     "output_type": "execute_result"
    }
   ],
   "source": [
    "# Melhor score da MLPClassifier\n",
    "grid_search_mlp.best_score_"
   ]
  },
  {
   "cell_type": "markdown",
   "id": "8db71bcc",
   "metadata": {},
   "source": [
    "### Previsão nos dados de validação com os melhores parâmetros para cada modelo"
   ]
  },
  {
   "cell_type": "code",
   "execution_count": 228,
   "id": "922ead0a",
   "metadata": {},
   "outputs": [],
   "source": [
    "# Regressão Logística\n",
    "clf_best_rl = grid_search_rl.best_estimator_\n",
    "\n",
    "y_pred_rl = clf_best_rl.predict(X_val)"
   ]
  },
  {
   "cell_type": "code",
   "execution_count": 229,
   "id": "ca473329",
   "metadata": {},
   "outputs": [],
   "source": [
    "# Random Forest\n",
    "clf_best_rf = grid_search_rf.best_estimator_\n",
    "\n",
    "y_pred_rf = clf_best_rf.predict(X_val)"
   ]
  },
  {
   "cell_type": "code",
   "execution_count": 230,
   "id": "52a2edd8",
   "metadata": {},
   "outputs": [],
   "source": [
    "# MLPClassifier\n",
    "clf_best_mlp = grid_search_mlp.best_estimator_\n",
    "\n",
    "y_pred_mlp = clf_best_mlp.predict(X_val)"
   ]
  },
  {
   "cell_type": "markdown",
   "id": "86b39a3c",
   "metadata": {},
   "source": [
    "### Avaliação dos modelos"
   ]
  },
  {
   "cell_type": "markdown",
   "id": "3ec43ad1",
   "metadata": {},
   "source": [
    "* Acurácia"
   ]
  },
  {
   "cell_type": "code",
   "execution_count": 231,
   "id": "5397c815",
   "metadata": {},
   "outputs": [],
   "source": [
    "from sklearn.metrics import accuracy_score"
   ]
  },
  {
   "cell_type": "code",
   "execution_count": 232,
   "id": "f75c4cca",
   "metadata": {},
   "outputs": [
    {
     "data": {
      "text/plain": [
       "0.8044692737430168"
      ]
     },
     "execution_count": 232,
     "metadata": {},
     "output_type": "execute_result"
    }
   ],
   "source": [
    "# Regressão Logística\n",
    "as_rl = accuracy_score(y_val, y_pred_rl)\n",
    "as_rl"
   ]
  },
  {
   "cell_type": "code",
   "execution_count": 233,
   "id": "8dfd50c8",
   "metadata": {},
   "outputs": [
    {
     "data": {
      "text/plain": [
       "0.8100558659217877"
      ]
     },
     "execution_count": 233,
     "metadata": {},
     "output_type": "execute_result"
    }
   ],
   "source": [
    "# Random Forest\n",
    "as_rf = accuracy_score(y_val, y_pred_rf)\n",
    "as_rf"
   ]
  },
  {
   "cell_type": "code",
   "execution_count": 234,
   "id": "7255c991",
   "metadata": {},
   "outputs": [
    {
     "data": {
      "text/plain": [
       "0.8100558659217877"
      ]
     },
     "execution_count": 234,
     "metadata": {},
     "output_type": "execute_result"
    }
   ],
   "source": [
    "# Redes Neurais\n",
    "as_mlp = accuracy_score(y_val, y_pred_mlp)\n",
    "as_mlp"
   ]
  },
  {
   "cell_type": "markdown",
   "id": "44248574",
   "metadata": {},
   "source": [
    "* Matriz de Confusão"
   ]
  },
  {
   "cell_type": "code",
   "execution_count": 235,
   "id": "97c00282",
   "metadata": {},
   "outputs": [],
   "source": [
    "from sklearn.metrics import confusion_matrix"
   ]
  },
  {
   "cell_type": "code",
   "execution_count": 236,
   "id": "ec8e17c7",
   "metadata": {},
   "outputs": [
    {
     "data": {
      "text/plain": [
       "array([[91, 14],\n",
       "       [21, 53]], dtype=int64)"
      ]
     },
     "execution_count": 236,
     "metadata": {},
     "output_type": "execute_result"
    }
   ],
   "source": [
    "# Regressão Logística\n",
    "cm_rl = confusion_matrix(y_val, y_pred_rl)\n",
    "cm_rl"
   ]
  },
  {
   "cell_type": "code",
   "execution_count": 237,
   "id": "3a4eace2",
   "metadata": {},
   "outputs": [
    {
     "data": {
      "text/plain": [
       "array([[93, 12],\n",
       "       [22, 52]], dtype=int64)"
      ]
     },
     "execution_count": 237,
     "metadata": {},
     "output_type": "execute_result"
    }
   ],
   "source": [
    "# Random Forest\n",
    "cm_rf = confusion_matrix(y_val, y_pred_rf)\n",
    "cm_rf"
   ]
  },
  {
   "cell_type": "code",
   "execution_count": 238,
   "id": "b026633c",
   "metadata": {},
   "outputs": [
    {
     "data": {
      "text/plain": [
       "array([[92, 13],\n",
       "       [21, 53]], dtype=int64)"
      ]
     },
     "execution_count": 238,
     "metadata": {},
     "output_type": "execute_result"
    }
   ],
   "source": [
    "# Redes Neurais\n",
    "cm_mlp = confusion_matrix(y_val, y_pred_mlp)\n",
    "cm_mlp"
   ]
  },
  {
   "cell_type": "markdown",
   "id": "2d053c90",
   "metadata": {},
   "source": [
    "* Nota-se que, os modelos de Redes Neurais utilizando MLPClassifier e Random Forest possuem a mesma taxa de acerto."
   ]
  },
  {
   "cell_type": "markdown",
   "id": "c41b1165",
   "metadata": {},
   "source": [
    "### Fazendo a previsão para os dados de teste"
   ]
  },
  {
   "cell_type": "code",
   "execution_count": 242,
   "id": "a5372b7f",
   "metadata": {},
   "outputs": [],
   "source": [
    "X_teste = teste.drop(['PassengerId', 'Survived'], axis=1)"
   ]
  },
  {
   "cell_type": "code",
   "execution_count": 246,
   "id": "921a268c",
   "metadata": {},
   "outputs": [],
   "source": [
    "y_pred = clf_best_rf.predict(X_teste)"
   ]
  },
  {
   "cell_type": "code",
   "execution_count": 247,
   "id": "564d290a",
   "metadata": {},
   "outputs": [],
   "source": [
    "teste['Survived'] = y_pred"
   ]
  },
  {
   "cell_type": "code",
   "execution_count": 248,
   "id": "b6758834",
   "metadata": {},
   "outputs": [],
   "source": [
    "base_envio = teste[['PassengerId', 'Survived']]\n",
    "\n",
    "base_envio.to_csv('titanic_previsao5_rf.csv', index=False)"
   ]
  },
  {
   "cell_type": "markdown",
   "id": "e01aeb2e",
   "metadata": {},
   "source": [
    "* Como ambos modelos apresentaram mesma acurácia, obteve-se uma mesma pontuação no Kaggle de 0.77990"
   ]
  }
 ],
 "metadata": {
  "kernelspec": {
   "display_name": "Python 3",
   "language": "python",
   "name": "python3"
  },
  "language_info": {
   "codemirror_mode": {
    "name": "ipython",
    "version": 3
   },
   "file_extension": ".py",
   "mimetype": "text/x-python",
   "name": "python",
   "nbconvert_exporter": "python",
   "pygments_lexer": "ipython3",
   "version": "3.11.0"
  }
 },
 "nbformat": 4,
 "nbformat_minor": 5
}
